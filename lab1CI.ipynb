{
 "cells": [
  {
   "cell_type": "code",
   "execution_count": null,
   "id": "a09c4f75",
   "metadata": {},
   "outputs": [],
   "source": [
    "import numpy as np\n",
    "from copy import deepcopy\n",
    "from random import random, randint\n",
    "from tqdm.auto import tqdm\n",
    "\n",
    "def simulated_annealing_knapsack(\n",
    "    VALUES, WEIGHTS, CONSTRAINTS,\n",
    "    max_steps=10000, temp_init=1000, temp_decay=0.99, tweak_strength=0.6\n",
    "):\n",
    "    NUM_ITEMS = len(VALUES)\n",
    "    NUM_KNAPSACKS = len(CONSTRAINTS)\n",
    "    # NUM_DIMENSIONS = WEIGHTS.shape[1] \n",
    "\n",
    "    # Soluzione iniziale basata su valore/peso\n",
    "    def generate_valid_initial_solution():\n",
    "        solution = -np.ones(NUM_ITEMS, dtype=int)\n",
    "        usage = np.zeros_like(CONSTRAINTS)\n",
    "        value_density = VALUES / (np.sum(WEIGHTS, axis=1) + 1e-6)\n",
    "        item_order = np.argsort(-value_density)\n",
    "\n",
    "        for i in item_order:\n",
    "            knapsacks = list(range(NUM_KNAPSACKS))\n",
    "            np.random.shuffle(knapsacks)\n",
    "            for k in knapsacks:\n",
    "                if np.all(usage[k] + WEIGHTS[i] <= CONSTRAINTS[k]):\n",
    "                    solution[i] = k\n",
    "                    usage[k] += WEIGHTS[i]\n",
    "                    break\n",
    "        return solution\n",
    "\n",
    "    def is_valid(solution):\n",
    "        usage = np.zeros_like(CONSTRAINTS)\n",
    "        for i in range(NUM_ITEMS):\n",
    "            k = solution[i]\n",
    "            if k >= 0:\n",
    "                usage[k] += WEIGHTS[i]\n",
    "        return np.all(usage <= CONSTRAINTS)\n",
    "\n",
    "    def total_value(solution):\n",
    "        return np.sum([VALUES[i] for i in range(NUM_ITEMS) if solution[i] >= 0])\n",
    "\n",
    "    # Penalità proporzionale per violazioni\n",
    "    def cost(solution):\n",
    "        usage = np.zeros_like(CONSTRAINTS)\n",
    "        for i in range(NUM_ITEMS):\n",
    "            k = solution[i]\n",
    "            if k >= 0:\n",
    "                usage[k] += WEIGHTS[i]\n",
    "        # hard constraint to avoid accepting invalid solutions\n",
    "        if np.any(usage > CONSTRAINTS):\n",
    "            return -1e12\n",
    "        return total_value(solution)\n",
    "\n",
    "    # Tweak intelligente: sposta solo se non viola\n",
    "    def tweak(solution):\n",
    "        new_solution = deepcopy(solution)\n",
    "        usage = np.zeros_like(CONSTRAINTS)\n",
    "        for i in range(NUM_ITEMS):\n",
    "            k = solution[i]\n",
    "            if k >= 0:\n",
    "                usage[k] += WEIGHTS[i]\n",
    "\n",
    "        for _ in range(int(tweak_strength * NUM_ITEMS)):\n",
    "            i = randint(0, NUM_ITEMS - 1)\n",
    "            original_k = new_solution[i]\n",
    "            candidate_knapsacks = list(range(NUM_KNAPSACKS))\n",
    "            if 0 <= original_k < NUM_KNAPSACKS:\n",
    "                candidate_knapsacks.remove(original_k)\n",
    "            np.random.shuffle(candidate_knapsacks)\n",
    "            for new_k in candidate_knapsacks:\n",
    "                if np.all(usage[new_k] + WEIGHTS[i] <= CONSTRAINTS[new_k]):\n",
    "                    # check if item was already assigned before removing it\n",
    "                    # otherwise usage[-1] would modify the last knapsack by mistake\n",
    "                    if original_k >= 0:\n",
    "                        usage[original_k] -= WEIGHTS[i]\n",
    "                    usage[new_k] += WEIGHTS[i]\n",
    "                    new_solution[i] = new_k\n",
    "                    break\n",
    "        return new_solution\n",
    "\n",
    "    current_solution = generate_valid_initial_solution()\n",
    "    current_cost = cost(current_solution)\n",
    "    temp = temp_init\n",
    "    best_solution = deepcopy(current_solution)\n",
    "    best_cost = current_cost\n",
    "\n",
    "    for step in tqdm(range(max_steps)):\n",
    "        if step % 100 == 0:\n",
    "            temp *= temp_decay\n",
    "\n",
    "        new_solution = tweak(current_solution)\n",
    "        new_cost = cost(new_solution)\n",
    "\n",
    "        if new_cost > current_cost or random() < np.exp((new_cost - current_cost) / temp):\n",
    "            current_solution = new_solution\n",
    "            current_cost = new_cost\n",
    "            if new_cost > best_cost:\n",
    "                best_solution = deepcopy(new_solution)\n",
    "                best_cost = new_cost\n",
    "    print(is_valid(best_solution))\n",
    "    return best_solution, best_cost\n"
   ]
  },
  {
   "cell_type": "code",
   "execution_count": 106,
   "id": "5fe1c536",
   "metadata": {},
   "outputs": [
    {
     "name": "stderr",
     "output_type": "stream",
     "text": [
      "100%|██████████| 10000/10000 [00:02<00:00, 3993.90it/s]"
     ]
    },
    {
     "name": "stdout",
     "output_type": "stream",
     "text": [
      "True\n",
      "TC1 Value: 1065\n"
     ]
    },
    {
     "name": "stderr",
     "output_type": "stream",
     "text": [
      "\n"
     ]
    }
   ],
   "source": [
    "# TC1\n",
    "# Problem 1:\n",
    "rng = np.random.default_rng(seed=42)\n",
    "NUM_KNAPSACKS = 3\n",
    "NUM_ITEMS = 20\n",
    "NUM_DIMENSIONS = 2\n",
    "VALUES = rng.integers(0, 100, size=NUM_ITEMS)\n",
    "WEIGHTS = rng.integers(0, 100, size=(NUM_ITEMS, NUM_DIMENSIONS))\n",
    "CONSTRAINTS = rng.integers(\n",
    "    0, 100 * NUM_ITEMS // NUM_KNAPSACKS, size=(NUM_KNAPSACKS, NUM_DIMENSIONS)\n",
    ")\n",
    "\n",
    "sol1, val1 = simulated_annealing_knapsack(VALUES, WEIGHTS, CONSTRAINTS)\n",
    "print(\"TC1 Value:\", val1)\n",
    "\n",
    "\n"
   ]
  },
  {
   "cell_type": "code",
   "execution_count": 107,
   "id": "dcf52783",
   "metadata": {},
   "outputs": [
    {
     "name": "stderr",
     "output_type": "stream",
     "text": [
      "100%|██████████| 10000/10000 [00:15<00:00, 628.09it/s]"
     ]
    },
    {
     "name": "stdout",
     "output_type": "stream",
     "text": [
      "True\n",
      "TC2 Value: 46622\n"
     ]
    },
    {
     "name": "stderr",
     "output_type": "stream",
     "text": [
      "\n"
     ]
    }
   ],
   "source": [
    "\n",
    "# TC2\n",
    "rng = np.random.default_rng(seed=42)\n",
    "NUM_KNAPSACKS = 10\n",
    "NUM_ITEMS = 100\n",
    "NUM_DIMENSIONS = 10\n",
    "VALUES = rng.integers(0, 1000, size=NUM_ITEMS)\n",
    "WEIGHTS = rng.integers(0, 1000, size=(NUM_ITEMS, NUM_DIMENSIONS))\n",
    "CONSTRAINTS = rng.integers(2000, 1000 * NUM_ITEMS // NUM_KNAPSACKS, size=(NUM_KNAPSACKS, NUM_DIMENSIONS))\n",
    "\n",
    "sol2, val2 = simulated_annealing_knapsack(VALUES, WEIGHTS, CONSTRAINTS, max_steps=10000, temp_init=200, tweak_strength=0.2)\n",
    "print(\"TC2 Value:\", val2)"
   ]
  },
  {
   "cell_type": "code",
   "execution_count": null,
   "id": "f658fdff",
   "metadata": {},
   "outputs": [
    {
     "name": "stderr",
     "output_type": "stream",
     "text": [
      "100%|██████████| 50/50 [00:19<00:00,  2.59it/s]"
     ]
    },
    {
     "name": "stdout",
     "output_type": "stream",
     "text": [
      "True\n",
      "TC3 Value: 1888203\n"
     ]
    },
    {
     "name": "stderr",
     "output_type": "stream",
     "text": [
      "\n"
     ]
    }
   ],
   "source": [
    "# TC3\n",
    "rng = np.random.default_rng(seed=42)\n",
    "NUM_KNAPSACKS = 100\n",
    "NUM_ITEMS = 5000\n",
    "NUM_DIMENSIONS = 100\n",
    "VALUES = rng.integers(0, 1000, size=NUM_ITEMS)\n",
    "WEIGHTS = rng.integers(0, 1000, size=(NUM_ITEMS, NUM_DIMENSIONS))\n",
    "CONSTRAINTS = rng.integers(10000, 2000 * NUM_ITEMS // NUM_KNAPSACKS, size=(NUM_KNAPSACKS, NUM_DIMENSIONS))\n",
    "\n",
    "sol3, val3 = simulated_annealing_knapsack(VALUES, WEIGHTS, CONSTRAINTS, max_steps=, temp_init=500, tweak_strength=0.1)\n",
    "print(\"TC3 Value:\", val3)"
   ]
  }
 ],
 "metadata": {
  "kernelspec": {
   "display_name": "base",
   "language": "python",
   "name": "python3"
  },
  "language_info": {
   "codemirror_mode": {
    "name": "ipython",
    "version": 3
   },
   "file_extension": ".py",
   "mimetype": "text/x-python",
   "name": "python",
   "nbconvert_exporter": "python",
   "pygments_lexer": "ipython3",
   "version": "3.13.1"
  }
 },
 "nbformat": 4,
 "nbformat_minor": 5
}
